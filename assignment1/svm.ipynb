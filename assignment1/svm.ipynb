{
 "cells": [
  {
   "cell_type": "code",
   "execution_count": 8,
   "id": "7fa7c932",
   "metadata": {},
   "outputs": [],
   "source": [
    "import numpy as np\n",
    "from Tools.data_utils import load_CIFAR10"
   ]
  },
  {
   "cell_type": "code",
   "execution_count": 9,
   "id": "d6de0975",
   "metadata": {},
   "outputs": [
    {
     "name": "stdout",
     "output_type": "stream",
     "text": [
      "Clear previously loaded data\n",
      "Training data shape:  (50000, 3072)\n",
      "Training labels shape:  (50000,)\n",
      "Test data shape:  (10000, 3072)\n",
      "Test labels shape:  (10000,)\n"
     ]
    }
   ],
   "source": [
    "cifar10_dir = 'C:/Users/rainstar/Jupyter Folder/cs231n/cifar-10-batches-py/'\n",
    "\n",
    "try:\n",
    "    del X_train,Y_train\n",
    "    del X_test,Y_test\n",
    "    print('Clear previously loaded data')\n",
    "except:\n",
    "    pass\n",
    "\n",
    "X_train,Y_train,X_test,Y_test = load_CIFAR10(cifar10_dir)\n",
    "\n",
    "print('Training data shape: ',X_train.shape)\n",
    "print('Training labels shape: ',Y_train.shape)\n",
    "print('Test data shape: ',X_test.shape)\n",
    "print('Test labels shape: ',Y_test.shape)"
   ]
  },
  {
   "cell_type": "code",
   "execution_count": 10,
   "id": "997a983b",
   "metadata": {},
   "outputs": [
    {
     "name": "stdout",
     "output_type": "stream",
     "text": [
      "Train data shape:  (49000, 3072)\n",
      "Train labels shape:  (49000,)\n",
      "Validation data shape:  (1000, 3072)\n",
      "Validation labels shape:  (1000,)\n",
      "Test data shape:  (1000,)\n",
      "Test labels shape:  (1000,)\n"
     ]
    }
   ],
   "source": [
    "num_train = 49000\n",
    "num_validation = 1000\n",
    "num_test = 1000\n",
    "num_dev =  500\n",
    "\n",
    "mask = range(num_train,num_train+num_validation)\n",
    "X_val = X_train[mask]\n",
    "Y_val = Y_train[mask].astype('int')\n",
    "\n",
    "mask = range(num_train)\n",
    "X_train = X_train[mask]\n",
    "Y_train = Y_train[mask].astype('int')\n",
    "\n",
    "mask = range(num_test)\n",
    "X_test = X_test[mask]\n",
    "Y_test = Y_test[mask].astype('int')\n",
    "\n",
    "mask = np.random.choice(num_train,num_dev,replace=True)\n",
    "X_dev = X_train[mask]\n",
    "Y_dev = Y_train[mask].astype('int')\n",
    "\n",
    "print('Train data shape: ', X_train.shape)\n",
    "print('Train labels shape: ', Y_train.shape)\n",
    "print('Validation data shape: ', X_val.shape)\n",
    "print('Validation labels shape: ', Y_val.shape)\n",
    "print('Test data shape: ', Y_test.shape)\n",
    "print('Test labels shape: ', Y_test.shape)"
   ]
  },
  {
   "cell_type": "code",
   "execution_count": 11,
   "id": "5d66c6c8",
   "metadata": {},
   "outputs": [
    {
     "name": "stdout",
     "output_type": "stream",
     "text": [
      "X_train:  (49000, 3073)\n",
      "X_val:  (1000, 3073)\n",
      "X_test:  (1000, 3073)\n",
      "X_dev:  (500, 3073)\n"
     ]
    }
   ],
   "source": [
    "# normalize\n",
    "mean_image = np.mean(X_train,axis=0)\n",
    "\n",
    "X_train -= mean_image\n",
    "X_val -= mean_image\n",
    "X_test -= mean_image\n",
    "X_dev -= mean_image\n",
    "\n",
    "# append bias\n",
    "X_train = np.hstack([X_train,np.ones((X_train.shape[0],1))])\n",
    "X_val = np.hstack([X_val,np.ones((X_val.shape[0],1))])\n",
    "X_test = np.hstack([X_test,np.ones((X_test.shape[0],1))])\n",
    "X_dev = np.hstack([X_dev,np.ones((X_dev.shape[0],1))])\n",
    "\n",
    "print('X_train: ',X_train.shape)\n",
    "print('X_val: ',X_val.shape)\n",
    "print('X_test: ',X_test.shape)\n",
    "print('X_dev: ',X_dev.shape)"
   ]
  },
  {
   "cell_type": "code",
   "execution_count": 12,
   "id": "256dce3f",
   "metadata": {},
   "outputs": [
    {
     "name": "stdout",
     "output_type": "stream",
     "text": [
      "loss:  18549.00010113086\n",
      "loss:  18549.000101130867\n"
     ]
    }
   ],
   "source": [
    "from Tools.classifiers.svm import svm_loss_naive\n",
    "from Tools.classifiers.svm import svm_loss_vectorized\n",
    "\n",
    "# 使参数尽量小\n",
    "W = np.random.randn(3073,10)\n",
    "\n",
    "loss1,grad1 = svm_loss_naive(W,X_dev,Y_dev,0.000005)\n",
    "print('loss: ',loss1,)\n",
    "\n",
    "loss2,grad2 = svm_loss_vectorized(W,X_dev,Y_dev,0.000005)\n",
    "print('loss: ',loss2) "
   ]
  },
  {
   "cell_type": "code",
   "execution_count": 14,
   "id": "67c3a34b",
   "metadata": {},
   "outputs": [
    {
     "name": "stdout",
     "output_type": "stream",
     "text": [
      "iteration 0 / 1500 : loss 401.63439821772084\n",
      "iteration 100 / 1500 : loss 239.2440752776986\n",
      "iteration 200 / 1500 : loss 145.36324524912587\n",
      "iteration 300 / 1500 : loss 89.50311199519909\n",
      "iteration 400 / 1500 : loss 55.253429983803215\n",
      "iteration 500 / 1500 : loss 36.25206376682971\n",
      "iteration 600 / 1500 : loss 23.291333547320736\n",
      "iteration 700 / 1500 : loss 16.4959037739525\n",
      "iteration 800 / 1500 : loss 11.832050406291334\n",
      "iteration 900 / 1500 : loss 9.082565213056576\n",
      "iteration 1000 / 1500 : loss 7.741410436734223\n",
      "iteration 1100 / 1500 : loss 6.133298943156444\n",
      "iteration 1200 / 1500 : loss 6.316573717450265\n",
      "iteration 1300 / 1500 : loss 5.2983128260763515\n",
      "iteration 1400 / 1500 : loss 5.428221286421965\n"
     ]
    }
   ],
   "source": [
    "from Tools.classifiers.linear_classifier import LinearSVM\n",
    "\n",
    "# 训练\n",
    "svm = LinearSVM()\n",
    "loss_hist = svm.train(X_train,\n",
    "                      Y_train,\n",
    "                      learning_rate=1e-7,\n",
    "                      regu=2.5e4,\n",
    "                      num_iters=1500,\n",
    "                      batch_size=200,\n",
    "                      verbose=True)"
   ]
  },
  {
   "cell_type": "code",
   "execution_count": 16,
   "id": "472bfce0",
   "metadata": {},
   "outputs": [
    {
     "name": "stdout",
     "output_type": "stream",
     "text": [
      "train accuracy:  0.37334693877551023\n",
      "validation accuracy:  0.371\n"
     ]
    }
   ],
   "source": [
    "Y_train_pred = svm.predict(X_train)\n",
    "print('train accuracy: ',np.mean(Y_train == Y_train_pred))\n",
    "\n",
    "Y_val_pred = svm.predict(X_val)\n",
    "print('validation accuracy: ',np.mean(Y_val == Y_val_pred))"
   ]
  },
  {
   "cell_type": "code",
   "execution_count": 17,
   "id": "4e1d464d",
   "metadata": {},
   "outputs": [
    {
     "name": "stderr",
     "output_type": "stream",
     "text": [
      "C:\\Users\\rainstar\\Jupyter Folder\\cs231n\\assignments\\assignment1\\Tools\\classifiers\\svm.py:59: RuntimeWarning: overflow encountered in double_scalars\n",
      "  loss += 0.5 * regu * np.sum(W*W)\n",
      "D:\\Anaconda\\lib\\site-packages\\numpy\\core\\fromnumeric.py:87: RuntimeWarning: overflow encountered in reduce\n",
      "  return ufunc.reduce(obj, axis, dtype, out, **passkwargs)\n",
      "C:\\Users\\rainstar\\Jupyter Folder\\cs231n\\assignments\\assignment1\\Tools\\classifiers\\svm.py:59: RuntimeWarning: overflow encountered in multiply\n",
      "  loss += 0.5 * regu * np.sum(W*W)\n",
      "C:\\Users\\rainstar\\Jupyter Folder\\cs231n\\assignments\\assignment1\\Tools\\classifiers\\svm.py:55: RuntimeWarning: overflow encountered in subtract\n",
      "  margin = scores - correct_class_scores + 1   # (N,C)\n",
      "C:\\Users\\rainstar\\Jupyter Folder\\cs231n\\assignments\\assignment1\\Tools\\classifiers\\svm.py:55: RuntimeWarning: invalid value encountered in subtract\n",
      "  margin = scores - correct_class_scores + 1   # (N,C)\n",
      "C:\\Users\\rainstar\\Jupyter Folder\\cs231n\\assignments\\assignment1\\Tools\\classifiers\\svm.py:63: RuntimeWarning: overflow encountered in multiply\n",
      "  dW = np.dot(X.T,margin)/num_train + regu*W\n"
     ]
    },
    {
     "name": "stdout",
     "output_type": "stream",
     "text": [
      "best_val:  0.394\n",
      "lr 1e-07 reg 10000.0 train_acc: 0.37565306122448977 val_acc: 0.377\n",
      "lr 1e-07 reg 20000.0 train_acc: 0.3823061224489796 val_acc: 0.394\n",
      "lr 1e-07 reg 30000.0 train_acc: 0.3773469387755102 val_acc: 0.389\n",
      "lr 1e-07 reg 40000.0 train_acc: 0.37157142857142855 val_acc: 0.38\n",
      "lr 1e-07 reg 50000.0 train_acc: 0.37389795918367347 val_acc: 0.38\n",
      "lr 1e-06 reg 10000.0 train_acc: 0.29359183673469386 val_acc: 0.315\n",
      "lr 1e-06 reg 20000.0 train_acc: 0.2866530612244898 val_acc: 0.289\n",
      "lr 1e-06 reg 30000.0 train_acc: 0.31495918367346937 val_acc: 0.331\n",
      "lr 1e-06 reg 40000.0 train_acc: 0.2738163265306122 val_acc: 0.272\n",
      "lr 1e-06 reg 50000.0 train_acc: 0.2931020408163265 val_acc: 0.304\n",
      "lr 1e-05 reg 10000.0 train_acc: 0.20661224489795918 val_acc: 0.208\n",
      "lr 1e-05 reg 20000.0 train_acc: 0.18916326530612246 val_acc: 0.199\n",
      "lr 1e-05 reg 30000.0 train_acc: 0.19618367346938775 val_acc: 0.194\n",
      "lr 1e-05 reg 40000.0 train_acc: 0.19777551020408163 val_acc: 0.192\n",
      "lr 1e-05 reg 50000.0 train_acc: 0.15597959183673468 val_acc: 0.166\n",
      "lr 0.0001 reg 10000.0 train_acc: 0.1543469387755102 val_acc: 0.18\n",
      "lr 0.0001 reg 20000.0 train_acc: 0.059346938775510207 val_acc: 0.055\n",
      "lr 0.0001 reg 30000.0 train_acc: 0.10026530612244898 val_acc: 0.087\n",
      "lr 0.0001 reg 40000.0 train_acc: 0.10026530612244898 val_acc: 0.087\n",
      "lr 0.0001 reg 50000.0 train_acc: 0.10026530612244898 val_acc: 0.087\n",
      "lr 0.001 reg 10000.0 train_acc: 0.10026530612244898 val_acc: 0.087\n",
      "lr 0.001 reg 20000.0 train_acc: 0.10026530612244898 val_acc: 0.087\n",
      "lr 0.001 reg 30000.0 train_acc: 0.10026530612244898 val_acc: 0.087\n",
      "lr 0.001 reg 40000.0 train_acc: 0.10026530612244898 val_acc: 0.087\n",
      "lr 0.001 reg 50000.0 train_acc: 0.10026530612244898 val_acc: 0.087\n",
      "lr 0.01 reg 10000.0 train_acc: 0.10026530612244898 val_acc: 0.087\n",
      "lr 0.01 reg 20000.0 train_acc: 0.10026530612244898 val_acc: 0.087\n",
      "lr 0.01 reg 30000.0 train_acc: 0.10026530612244898 val_acc: 0.087\n",
      "lr 0.01 reg 40000.0 train_acc: 0.10026530612244898 val_acc: 0.087\n",
      "lr 0.01 reg 50000.0 train_acc: 0.10026530612244898 val_acc: 0.087\n"
     ]
    }
   ],
   "source": [
    "# 超参验证\n",
    "\n",
    "results = {}\n",
    "best_val = -1\n",
    "best_svm = None\n",
    "\n",
    "learning_rates = [1e-2,1e-3,1e-4,1e-5,1e-6,1e-7]\n",
    "regularizations = [1e4,2e4,3e4,4e4,5e4]\n",
    "\n",
    "for lr in learning_rates:\n",
    "    for reg in regularizations:\n",
    "        svm = LinearSVM()\n",
    "        svm.train(X_train,\n",
    "                  Y_train,\n",
    "                  learning_rate=lr,\n",
    "                  regu=reg,\n",
    "                  num_iters=1500,\n",
    "                  batch_size=200,\n",
    "                  verbose=False)\n",
    "        Y_train_pred = svm.predict(X_train)\n",
    "        Y_val_pred = svm.predict(X_val)\n",
    "        acc = (np.mean(Y_train == Y_train_pred),\n",
    "               np.mean(Y_val == Y_val_pred))\n",
    "        results[(lr,reg)] = acc\n",
    "        if(acc[1] > best_val):\n",
    "            best_val = acc[1]\n",
    "            best_svm = svm\n",
    "\n",
    "print('best_val: ',best_val)\n",
    "for lr,reg  in sorted(results):\n",
    "    train_acc,val_acc = results[(lr,reg)]\n",
    "    print('lr {} reg {} train_acc: {} val_acc: {}'\n",
    "          .format(lr,reg,train_acc,val_acc))"
   ]
  },
  {
   "cell_type": "code",
   "execution_count": 18,
   "id": "354011b2",
   "metadata": {},
   "outputs": [
    {
     "data": {
      "image/png": "[encoded data removed]",
      "text/plain": [
       "<Figure size 432x288 with 4 Axes>"
      ]
     },
     "metadata": {
      "needs_background": "light"
     },
     "output_type": "display_data"
    }
   ],
   "source": [
    "# Visualize the cross-validation results\n",
    "import math\n",
    "import pdb\n",
    "import matplotlib.pyplot as plt\n",
    "\n",
    "# pdb.set_trace()\n",
    "\n",
    "x_scatter = [math.log10(x[0]) for x in results]\n",
    "y_scatter = [math.log10(x[1]) for x in results]\n",
    "\n",
    "# plot training accuracy\n",
    "marker_size = 100\n",
    "colors = [results[x][0] for x in results]\n",
    "plt.subplot(2, 1, 1)\n",
    "plt.tight_layout(pad=3)\n",
    "plt.scatter(x_scatter, y_scatter, marker_size, c=colors, cmap=plt.cm.coolwarm)\n",
    "plt.colorbar()\n",
    "plt.xlabel('log learning rate')\n",
    "plt.ylabel('log regularization strength')\n",
    "plt.title('CIFAR-10 training accuracy')\n",
    "\n",
    "# plot validation accuracy\n",
    "colors = [results[x][1] for x in results] # default size of markers is 20\n",
    "plt.subplot(2, 1, 2)\n",
    "plt.scatter(x_scatter, y_scatter, marker_size, c=colors, cmap=plt.cm.coolwarm)\n",
    "plt.colorbar()\n",
    "plt.xlabel('log learning rate')\n",
    "plt.ylabel('log regularization strength')\n",
    "plt.title('CIFAR-10 validation accuracy')\n",
    "plt.show()"
   ]
  },
  {
   "cell_type": "code",
   "execution_count": null,
   "id": "185f8738",
   "metadata": {},
   "outputs": [],
   "source": []
  }
 ],
 "metadata": {
  "kernelspec": {
   "display_name": "Python 3",
   "language": "python",
   "name": "python3"
  },
  "language_info": {
   "codemirror_mode": {
    "name": "ipython",
    "version": 3
   },
   "file_extension": ".py",
   "mimetype": "text/x-python",
   "name": "python",
   "nbconvert_exporter": "python",
   "pygments_lexer": "ipython3",
   "version": "3.8.8"
  }
 },
 "nbformat": 4,
 "nbformat_minor": 5
}
